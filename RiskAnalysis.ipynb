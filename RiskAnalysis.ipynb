{
  "nbformat": 4,
  "nbformat_minor": 0,
  "metadata": {
    "colab": {
      "provenance": [],
      "authorship_tag": "ABX9TyM/gshKdsnMLAxjMVq75FOr",
      "include_colab_link": true
    },
    "kernelspec": {
      "name": "python3",
      "display_name": "Python 3"
    },
    "language_info": {
      "name": "python"
    }
  },
  "cells": [
    {
      "cell_type": "markdown",
      "metadata": {
        "id": "view-in-github",
        "colab_type": "text"
      },
      "source": [
        "<a href=\"https://colab.research.google.com/github/clizar5302/PCC-Risk-Analysis-Prototype/blob/main/RiskAnalysis.ipynb\" target=\"_parent\"><img src=\"https://colab.research.google.com/assets/colab-badge.svg\" alt=\"Open In Colab\"/></a>"
      ]
    },
    {
      "cell_type": "markdown",
      "source": [
        "Import Functions and Load the File"
      ],
      "metadata": {
        "id": "h-3fWu2auc70"
      }
    },
    {
      "cell_type": "code",
      "execution_count": null,
      "metadata": {
        "colab": {
          "base_uri": "https://localhost:8080/",
          "height": 698
        },
        "id": "EmDDtdLduZHR",
        "outputId": "1fc72bdf-91b3-42d4-b605-706a9e8d4919"
      },
      "outputs": [
        {
          "output_type": "display_data",
          "data": {
            "text/plain": [
              "<IPython.core.display.HTML object>"
            ],
            "text/html": [
              "\n",
              "     <input type=\"file\" id=\"files-f8385851-1a48-40bb-8d45-36f4dfc09244\" name=\"files[]\" multiple disabled\n",
              "        style=\"border:none\" />\n",
              "     <output id=\"result-f8385851-1a48-40bb-8d45-36f4dfc09244\">\n",
              "      Upload widget is only available when the cell has been executed in the\n",
              "      current browser session. Please rerun this cell to enable.\n",
              "      </output>\n",
              "      <script>// Copyright 2017 Google LLC\n",
              "//\n",
              "// Licensed under the Apache License, Version 2.0 (the \"License\");\n",
              "// you may not use this file except in compliance with the License.\n",
              "// You may obtain a copy of the License at\n",
              "//\n",
              "//      http://www.apache.org/licenses/LICENSE-2.0\n",
              "//\n",
              "// Unless required by applicable law or agreed to in writing, software\n",
              "// distributed under the License is distributed on an \"AS IS\" BASIS,\n",
              "// WITHOUT WARRANTIES OR CONDITIONS OF ANY KIND, either express or implied.\n",
              "// See the License for the specific language governing permissions and\n",
              "// limitations under the License.\n",
              "\n",
              "/**\n",
              " * @fileoverview Helpers for google.colab Python module.\n",
              " */\n",
              "(function(scope) {\n",
              "function span(text, styleAttributes = {}) {\n",
              "  const element = document.createElement('span');\n",
              "  element.textContent = text;\n",
              "  for (const key of Object.keys(styleAttributes)) {\n",
              "    element.style[key] = styleAttributes[key];\n",
              "  }\n",
              "  return element;\n",
              "}\n",
              "\n",
              "// Max number of bytes which will be uploaded at a time.\n",
              "const MAX_PAYLOAD_SIZE = 100 * 1024;\n",
              "\n",
              "function _uploadFiles(inputId, outputId) {\n",
              "  const steps = uploadFilesStep(inputId, outputId);\n",
              "  const outputElement = document.getElementById(outputId);\n",
              "  // Cache steps on the outputElement to make it available for the next call\n",
              "  // to uploadFilesContinue from Python.\n",
              "  outputElement.steps = steps;\n",
              "\n",
              "  return _uploadFilesContinue(outputId);\n",
              "}\n",
              "\n",
              "// This is roughly an async generator (not supported in the browser yet),\n",
              "// where there are multiple asynchronous steps and the Python side is going\n",
              "// to poll for completion of each step.\n",
              "// This uses a Promise to block the python side on completion of each step,\n",
              "// then passes the result of the previous step as the input to the next step.\n",
              "function _uploadFilesContinue(outputId) {\n",
              "  const outputElement = document.getElementById(outputId);\n",
              "  const steps = outputElement.steps;\n",
              "\n",
              "  const next = steps.next(outputElement.lastPromiseValue);\n",
              "  return Promise.resolve(next.value.promise).then((value) => {\n",
              "    // Cache the last promise value to make it available to the next\n",
              "    // step of the generator.\n",
              "    outputElement.lastPromiseValue = value;\n",
              "    return next.value.response;\n",
              "  });\n",
              "}\n",
              "\n",
              "/**\n",
              " * Generator function which is called between each async step of the upload\n",
              " * process.\n",
              " * @param {string} inputId Element ID of the input file picker element.\n",
              " * @param {string} outputId Element ID of the output display.\n",
              " * @return {!Iterable<!Object>} Iterable of next steps.\n",
              " */\n",
              "function* uploadFilesStep(inputId, outputId) {\n",
              "  const inputElement = document.getElementById(inputId);\n",
              "  inputElement.disabled = false;\n",
              "\n",
              "  const outputElement = document.getElementById(outputId);\n",
              "  outputElement.innerHTML = '';\n",
              "\n",
              "  const pickedPromise = new Promise((resolve) => {\n",
              "    inputElement.addEventListener('change', (e) => {\n",
              "      resolve(e.target.files);\n",
              "    });\n",
              "  });\n",
              "\n",
              "  const cancel = document.createElement('button');\n",
              "  inputElement.parentElement.appendChild(cancel);\n",
              "  cancel.textContent = 'Cancel upload';\n",
              "  const cancelPromise = new Promise((resolve) => {\n",
              "    cancel.onclick = () => {\n",
              "      resolve(null);\n",
              "    };\n",
              "  });\n",
              "\n",
              "  // Wait for the user to pick the files.\n",
              "  const files = yield {\n",
              "    promise: Promise.race([pickedPromise, cancelPromise]),\n",
              "    response: {\n",
              "      action: 'starting',\n",
              "    }\n",
              "  };\n",
              "\n",
              "  cancel.remove();\n",
              "\n",
              "  // Disable the input element since further picks are not allowed.\n",
              "  inputElement.disabled = true;\n",
              "\n",
              "  if (!files) {\n",
              "    return {\n",
              "      response: {\n",
              "        action: 'complete',\n",
              "      }\n",
              "    };\n",
              "  }\n",
              "\n",
              "  for (const file of files) {\n",
              "    const li = document.createElement('li');\n",
              "    li.append(span(file.name, {fontWeight: 'bold'}));\n",
              "    li.append(span(\n",
              "        `(${file.type || 'n/a'}) - ${file.size} bytes, ` +\n",
              "        `last modified: ${\n",
              "            file.lastModifiedDate ? file.lastModifiedDate.toLocaleDateString() :\n",
              "                                    'n/a'} - `));\n",
              "    const percent = span('0% done');\n",
              "    li.appendChild(percent);\n",
              "\n",
              "    outputElement.appendChild(li);\n",
              "\n",
              "    const fileDataPromise = new Promise((resolve) => {\n",
              "      const reader = new FileReader();\n",
              "      reader.onload = (e) => {\n",
              "        resolve(e.target.result);\n",
              "      };\n",
              "      reader.readAsArrayBuffer(file);\n",
              "    });\n",
              "    // Wait for the data to be ready.\n",
              "    let fileData = yield {\n",
              "      promise: fileDataPromise,\n",
              "      response: {\n",
              "        action: 'continue',\n",
              "      }\n",
              "    };\n",
              "\n",
              "    // Use a chunked sending to avoid message size limits. See b/62115660.\n",
              "    let position = 0;\n",
              "    do {\n",
              "      const length = Math.min(fileData.byteLength - position, MAX_PAYLOAD_SIZE);\n",
              "      const chunk = new Uint8Array(fileData, position, length);\n",
              "      position += length;\n",
              "\n",
              "      const base64 = btoa(String.fromCharCode.apply(null, chunk));\n",
              "      yield {\n",
              "        response: {\n",
              "          action: 'append',\n",
              "          file: file.name,\n",
              "          data: base64,\n",
              "        },\n",
              "      };\n",
              "\n",
              "      let percentDone = fileData.byteLength === 0 ?\n",
              "          100 :\n",
              "          Math.round((position / fileData.byteLength) * 100);\n",
              "      percent.textContent = `${percentDone}% done`;\n",
              "\n",
              "    } while (position < fileData.byteLength);\n",
              "  }\n",
              "\n",
              "  // All done.\n",
              "  yield {\n",
              "    response: {\n",
              "      action: 'complete',\n",
              "    }\n",
              "  };\n",
              "}\n",
              "\n",
              "scope.google = scope.google || {};\n",
              "scope.google.colab = scope.google.colab || {};\n",
              "scope.google.colab._files = {\n",
              "  _uploadFiles,\n",
              "  _uploadFilesContinue,\n",
              "};\n",
              "})(self);\n",
              "</script> "
            ]
          },
          "metadata": {}
        },
        {
          "output_type": "stream",
          "name": "stdout",
          "text": [
            "Saving MTD Loan Data TEST.xls to MTD Loan Data TEST (1).xls\n",
            "   Days in Month          Loan Name  Advance  Line Amount  Beginning Loan  \\\n",
            "0           24.0  SAMPLE Customer 1     0.80    2500000.0       1750000.0   \n",
            "1           24.0  SAMPLE Customer 2     0.85    7500000.0       6897800.0   \n",
            "2           24.0  SAMPLE Customer 3     0.85    5000000.0       3587906.0   \n",
            "3           24.0  SAMPLE Customer 4     0.85    2500000.0       1369087.0   \n",
            "4           24.0  SAMPLE Customer 5     0.85    3000000.0       1413131.0   \n",
            "\n",
            "   Beginning Collateral Last Imported Aging Date  Gross Collateral  \\\n",
            "0          2.437500e+06               2024-07-31      2.690826e+06   \n",
            "1          8.865059e+06               2024-08-31      9.977064e+06   \n",
            "2          4.721066e+06               2024-09-30      4.773793e+06   \n",
            "3          1.860691e+06               2024-09-30      2.117039e+06   \n",
            "4          1.962507e+06               2024-09-30      2.153506e+06   \n",
            "\n",
            "      Ineligible Loan Balance  ...  MTD Advances  MTD Discounts  AR Turn Days  \\\n",
            "0 -243750.000000    1774603.2  ...    1413603.20      -36780.00     42.116631   \n",
            "1 -886505.882353   7580832.65  ...    3193372.65           0.00     84.754022   \n",
            "2 -472106.588235   3743578.85  ...    1137128.85       -2036.90    115.446420   \n",
            "3 -186069.058824    1414748.8  ...    1256221.80       -3405.00     36.889187   \n",
            "4 -196250.705882   1438282.95  ...     939799.95        -128.75     51.495405   \n",
            "\n",
            "   Historical Average A/R Turn  Loan Turn   Historical Average Loan Turn  \\\n",
            "0                         45.0   30.237581                     32.307692   \n",
            "1                         60.0   65.946127                     46.685308   \n",
            "2                         91.0   87.736734                     69.157994   \n",
            "3                         41.0   27.142883                     30.167599   \n",
            "4                         52.0   37.079996                     37.443336   \n",
            "\n",
            "   Dilution  Historical Average Dilution  Risk Rating  Extended Risk Score  \n",
            "0  0.091374                        0.030          4.0                  NaN  \n",
            "1  0.035818                        0.030          5.0                  NaN  \n",
            "2  0.011052                        0.010          5.0                  NaN  \n",
            "3  0.009747                        0.010          4.0                  NaN  \n",
            "4  0.000116                        0.005          4.0                  NaN  \n",
            "\n",
            "[5 rows x 24 columns]\n"
          ]
        }
      ],
      "source": [
        "import pandas as pd\n",
        "import numpy as np\n",
        "from google.colab import files\n",
        "from datetime import datetime\n",
        "\n",
        "# Prompt the user to upload a file\n",
        "uploaded = files.upload()\n",
        "\n",
        "# Extract the file name (it's the key of the uploaded dict)\n",
        "file_name = next(iter(uploaded))\n",
        "\n",
        "# Load the .xls file using pandas and xlrd engine\n",
        "df = pd.read_excel(file_name, engine='xlrd')\n",
        "\n",
        "# Preview the data to ensure it's loaded correctly\n",
        "print(df.head())"
      ]
    },
    {
      "cell_type": "markdown",
      "source": [
        "Define Risk Score Calculation Function"
      ],
      "metadata": {
        "id": "s6ML0Ocqvhzj"
      }
    },
    {
      "cell_type": "code",
      "source": [
        "# Step 4: Define a function to calculate the Extended Risk Score\n",
        "def calculate_risk_score(row, current_date):\n",
        "    score = 0\n",
        "\n",
        "    # 1. Last Imported Aging Date\n",
        "    aging_date = pd.to_datetime(row['Last Imported Aging Date'], errors='coerce')\n",
        "    if not pd.isna(aging_date):\n",
        "        days_aged = (current_date - aging_date).days\n",
        "        if 45 <= days_aged < 60:\n",
        "            score += 3\n",
        "        elif days_aged >= 60:\n",
        "            score += 5\n",
        "\n",
        "    # 2. Ineligible as a percentage of Gross Collateral\n",
        "    if row['Ineligible'] > 0.10 * row['Gross Collateral']:\n",
        "        score += 1\n",
        "\n",
        "    # 3. Availability\n",
        "    if row['Availability'] < 0:\n",
        "        if row['Availability'] < -0.10 * row['Gross Collateral']:\n",
        "            score += 5\n",
        "        elif row['Availability'] < -0.05 * row['Gross Collateral']:\n",
        "            score += 3\n",
        "        else:\n",
        "            score += 2\n",
        "\n",
        "    # 4. AR Turn in Days\n",
        "    ar_turn_days = row['AR Turn Days']\n",
        "    if 45 <= ar_turn_days < 60:\n",
        "        score += 1\n",
        "    elif 60 <= ar_turn_days < 90:\n",
        "        score += 3\n",
        "    elif ar_turn_days >= 90:\n",
        "        score += 5\n",
        "\n",
        "    # 5. AR Turn compared with Historical Average\n",
        "    ar_turn_diff = row['AR Turn Days'] - row['Historical Average A/R Turn']\n",
        "    if 5 <= ar_turn_diff < 10:\n",
        "        score += 3\n",
        "    elif 10 <= ar_turn_diff < 15:\n",
        "        score += 5\n",
        "    elif ar_turn_diff >= 15:\n",
        "        score += 10\n",
        "\n",
        "    # 6. Dilution\n",
        "    dilution = row['Dilution']\n",
        "    if 5 <= dilution < 10:\n",
        "        score += 3\n",
        "    elif 10 <= dilution < 15:\n",
        "        score += 5\n",
        "    elif dilution >= 15:\n",
        "        score += 10\n",
        "\n",
        "    # 7. Dilution compared with Historical Average\n",
        "    dilution_diff = row['Dilution'] - row['Historical Average Dilution']\n",
        "    if 5 <= dilution_diff < 10:\n",
        "        score += 3\n",
        "    elif 10 <= dilution_diff < 15:\n",
        "        score += 5\n",
        "    elif dilution_diff >= 15:\n",
        "        score += 10\n",
        "\n",
        "    # 8. Risk Rating\n",
        "    risk_rating = row['Risk Rating']\n",
        "    if risk_rating == 5:\n",
        "        score += 3\n",
        "    elif risk_rating == 6:\n",
        "        score += 5\n",
        "\n",
        "    return score"
      ],
      "metadata": {
        "id": "wBIT77kdulFl"
      },
      "execution_count": null,
      "outputs": []
    },
    {
      "cell_type": "markdown",
      "source": [
        "Calculate Extended Risk Score"
      ],
      "metadata": {
        "id": "qr-x5nVTvnpo"
      }
    },
    {
      "cell_type": "code",
      "source": [
        "# Step 5: Calculate the Extended Risk Score for each customer\n",
        "current_date = datetime.now()\n",
        "df['Extended Risk Score'] = df.apply(lambda row: calculate_risk_score(row, current_date), axis=1)\n",
        "\n",
        "# Step 6: Sort the dataframe by the Extended Risk Score in descending order\n",
        "df_sorted = df.sort_values(by='Extended Risk Score', ascending=False)\n",
        "\n",
        "# Step 7: Display the top 5 riskiest customers based on the Extended Risk Score\n",
        "print(\"\\nTop 5 customers based on Extended Risk Score:\")\n",
        "print(df_sorted[['Loan Name', 'Extended Risk Score']].head(5))"
      ],
      "metadata": {
        "colab": {
          "base_uri": "https://localhost:8080/"
        },
        "id": "L5IqeQFmvmGx",
        "outputId": "5f5357b5-34ea-45ca-9c28-d919c261778c"
      },
      "execution_count": null,
      "outputs": [
        {
          "output_type": "stream",
          "name": "stdout",
          "text": [
            "\n",
            "Top 5 customers based on Extended Risk Score:\n",
            "           Loan Name  Extended Risk Score\n",
            "2  SAMPLE Customer 3                   20\n",
            "1  SAMPLE Customer 2                   19\n",
            "5  SAMPLE Customer 6                   10\n",
            "0  SAMPLE Customer 1                    5\n",
            "8  SAMPLE Customer 9                    5\n"
          ]
        }
      ]
    },
    {
      "cell_type": "markdown",
      "source": [
        "Display Top 5 Customers by Other Factors"
      ],
      "metadata": {
        "id": "wyk5yz0Rv6Oq"
      }
    },
    {
      "cell_type": "code",
      "source": [
        "# Convert the 'Loan Balance' column to numeric, coercing errors to NaN\n",
        "df_sorted['Loan Balance'] = pd.to_numeric(df_sorted['Loan Balance'], errors='coerce')\n",
        "\n",
        "# Optionally, drop rows with NaN values in 'Loan Balance'\n",
        "df_sorted = df_sorted.dropna(subset=['Loan Balance'])\n",
        "\n",
        "# Sort the DataFrame by different columns and get the top 5 customers for each category\n",
        "top_5_size_of_loan = df_sorted.sort_values(by='Loan Balance', ascending=False).head(5)\n",
        "top_5_ar_turn_days = df_sorted.sort_values(by='AR Turn Days', ascending=False).head(5)\n",
        "top_5_ar_turn_vs_historical = df_sorted.sort_values(by='Historical Average A/R Turn', ascending=False).head(5)\n",
        "top_5_dilution = df_sorted.sort_values(by='Dilution', ascending=False).head(5)\n",
        "top_5_dilution_vs_historical = df_sorted.sort_values(by='Historical Average Dilution', ascending=False).head(5)\n",
        "\n",
        "# Print the top 5 results for each category\n",
        "\n",
        "print(\"\\nTop 5 customers by Loan Balance (Size of Loan):\")\n",
        "print(top_5_size_of_loan[['Loan Name', 'Loan Balance']])\n",
        "\n",
        "print(\"\\nTop 5 customers by AR Turn Days:\")\n",
        "print(top_5_ar_turn_days[['Loan Name', 'AR Turn Days']])\n",
        "\n",
        "print(\"\\nTop 5 customers by AR Turn compared with Historical Average:\")\n",
        "print(top_5_ar_turn_vs_historical[['Loan Name', 'Historical Average A/R Turn']])\n",
        "\n",
        "print(\"\\nTop 5 customers by Dilution:\")\n",
        "print(top_5_dilution[['Loan Name', 'Dilution']])\n",
        "\n",
        "print(\"\\nTop 5 customers by Dilution compared with Historical Average:\")\n",
        "print(top_5_dilution_vs_historical[['Loan Name', 'Historical Average Dilution']])"
      ],
      "metadata": {
        "colab": {
          "base_uri": "https://localhost:8080/"
        },
        "id": "YU-bGjqZvrSU",
        "outputId": "e2c89cee-826b-425b-a334-4275dc134e42"
      },
      "execution_count": null,
      "outputs": [
        {
          "output_type": "stream",
          "name": "stdout",
          "text": [
            "\n",
            "Top 5 customers by Loan Balance (Size of Loan):\n",
            "            Loan Name  Loan Balance\n",
            "8   SAMPLE Customer 9   33163537.65\n",
            "5   SAMPLE Customer 6   23955356.90\n",
            "6   SAMPLE Customer 7   17716788.75\n",
            "1   SAMPLE Customer 2    7580832.65\n",
            "9  SAMPLE Customer 10    4722656.60\n",
            "\n",
            "Top 5 customers by AR Turn Days:\n",
            "           Loan Name  AR Turn Days\n",
            "2  SAMPLE Customer 3    115.446420\n",
            "1  SAMPLE Customer 2     84.754022\n",
            "4  SAMPLE Customer 5     51.495405\n",
            "6  SAMPLE Customer 7     47.777350\n",
            "8  SAMPLE Customer 9     44.332798\n",
            "\n",
            "Top 5 customers by AR Turn compared with Historical Average:\n",
            "           Loan Name  Historical Average A/R Turn\n",
            "2  SAMPLE Customer 3                         91.0\n",
            "1  SAMPLE Customer 2                         60.0\n",
            "4  SAMPLE Customer 5                         52.0\n",
            "0  SAMPLE Customer 1                         45.0\n",
            "8  SAMPLE Customer 9                         45.0\n",
            "\n",
            "Top 5 customers by Dilution:\n",
            "           Loan Name  Dilution\n",
            "5  SAMPLE Customer 6  0.231752\n",
            "0  SAMPLE Customer 1  0.091374\n",
            "6  SAMPLE Customer 7  0.062011\n",
            "8  SAMPLE Customer 9  0.049395\n",
            "1  SAMPLE Customer 2  0.035818\n",
            "\n",
            "Top 5 customers by Dilution compared with Historical Average:\n",
            "           Loan Name  Historical Average Dilution\n",
            "8  SAMPLE Customer 9                         0.05\n",
            "6  SAMPLE Customer 7                         0.05\n",
            "5  SAMPLE Customer 6                         0.04\n",
            "1  SAMPLE Customer 2                         0.03\n",
            "0  SAMPLE Customer 1                         0.03\n"
          ]
        }
      ]
    },
    {
      "cell_type": "markdown",
      "source": [
        "Normalize Scores"
      ],
      "metadata": {
        "id": "slryf8S_wAXY"
      }
    },
    {
      "cell_type": "code",
      "source": [
        "def sigmoid(x):\n",
        "    return 1 / (1 + np.exp(-x))\n",
        "\n",
        "# Normalize the Extended Risk Score\n",
        "df['Normalized Risk Score'] = sigmoid(df['Extended Risk Score'])\n",
        "\n",
        "# Preview of Normalized Risk Scores\n",
        "print(\"\\nPreview of Normalized Risk Scores:\")\n",
        "print(df[['Loan Name', 'Extended Risk Score', 'Normalized Risk Score']].head(5))"
      ],
      "metadata": {
        "colab": {
          "base_uri": "https://localhost:8080/"
        },
        "id": "6u6ZOicuv-Fx",
        "outputId": "f820f1c5-7623-4542-d096-fc2e4ab70ca9"
      },
      "execution_count": null,
      "outputs": [
        {
          "output_type": "stream",
          "name": "stdout",
          "text": [
            "\n",
            "Preview of Normalized Risk Scores:\n",
            "           Loan Name  Extended Risk Score  Normalized Risk Score\n",
            "0  SAMPLE Customer 1                    5               0.993307\n",
            "1  SAMPLE Customer 2                   19               1.000000\n",
            "2  SAMPLE Customer 3                   20               1.000000\n",
            "3  SAMPLE Customer 4                    0               0.500000\n",
            "4  SAMPLE Customer 5                    1               0.731059\n"
          ]
        }
      ]
    }
  ]
}